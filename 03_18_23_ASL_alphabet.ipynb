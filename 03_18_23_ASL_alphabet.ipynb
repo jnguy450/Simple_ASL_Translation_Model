{
  "nbformat": 4,
  "nbformat_minor": 0,
  "metadata": {
    "colab": {
      "provenance": [],
      "include_colab_link": true
    },
    "kernelspec": {
      "name": "python3",
      "display_name": "Python 3"
    },
    "language_info": {
      "name": "python"
    },
    "gpuClass": "standard"
  },
  "cells": [
    {
      "cell_type": "markdown",
      "metadata": {
        "id": "view-in-github",
        "colab_type": "text"
      },
      "source": [
        "<a href=\"https://colab.research.google.com/github/jnguy450/Simple_ASL_Translation_TFModel/blob/main/03_18_23_ASL_alphabet.ipynb\" target=\"_parent\"><img src=\"https://colab.research.google.com/assets/colab-badge.svg\" alt=\"Open In Colab\"/></a>"
      ]
    },
    {
      "cell_type": "markdown",
      "source": [
        "Model Training"
      ],
      "metadata": {
        "id": "2EwGwVF6Youl"
      }
    },
    {
      "cell_type": "code",
      "source": [
        "# Install the required modules.\n",
        "!pip install mediapipe"
      ],
      "metadata": {
        "id": "eDKcuMuNuJ4W"
      },
      "execution_count": null,
      "outputs": []
    },
    {
      "cell_type": "code",
      "source": [
        "# Import the required libraries.\n",
        "import os\n",
        "import cv2\n",
        "import math\n",
        "import random\n",
        "import numpy as np\n",
        "import datetime as dt\n",
        "import tensorflow as tf\n",
        "from collections import deque\n",
        "import matplotlib.pyplot as plt\n",
        "import mediapipe as mp\n",
        "import time\n",
        "import copy\n",
        "import itertools\n",
        "\n",
        "%matplotlib inline\n",
        " \n",
        "from sklearn.model_selection import train_test_split\n",
        "from sklearn.metrics import classification_report, confusion_matrix\n",
        " \n",
        "from tensorflow.keras.layers import *\n",
        "from tensorflow.keras.models import Sequential\n",
        "from tensorflow.keras.utils import to_categorical\n",
        "from tensorflow.keras.callbacks import EarlyStopping\n",
        "from tensorflow.keras.utils import plot_model"
      ],
      "metadata": {
        "id": "-paBZcAWOKFr"
      },
      "execution_count": null,
      "outputs": []
    },
    {
      "cell_type": "code",
      "source": [
        "seed_constant = 27\n",
        "np.random.seed(seed_constant)\n",
        "random.seed(seed_constant)\n",
        "tf.random.set_seed(seed_constant)"
      ],
      "metadata": {
        "id": "7cvhVPrYPMgf"
      },
      "execution_count": null,
      "outputs": []
    },
    {
      "cell_type": "code",
      "source": [
        "from google.colab import drive\n",
        "drive.mount('/content/drive')"
      ],
      "metadata": {
        "id": "nISsqnDWr4HY"
      },
      "execution_count": null,
      "outputs": []
    },
    {
      "cell_type": "code",
      "source": [
        "# Discard the output of this cell.\n",
        "%%capture\n",
        " \n",
        "# Extract the Dataset (can use any zip file)\n",
        "# !unzip \"/content/drive/MyDrive/Colab Notebooks/ASL_Dataset_Clips_v1_0.zip\"\n",
        "!unzip \"/content/drive/MyDrive/CPSLO/Courses/CPE/CPE461 462: Senior Project/ASL_Translation_Tool/Datasets/ASL_Dataset_Clips_v0.zip\"\n",
        "# !unzip \"/content/drive/MyDrive/CPSLO/Courses/CPE/CPE461 462: Senior Project/ASL_Translation_Tool/Datasets/ASL_Dataset_Clips_v1.zip\"\n",
        "# !unzip \"/content/drive/MyDrive/CPSLO/Courses/CPE/CPE461 462: Senior Project/ASL_Translation_Tool/Datasets/ASL_Dataset_Clips_v2.zip\"\n",
        "# !unzip \"/content/drive/MyDrive/CPSLO/Courses/CPE/CPE461 462: Senior Project/ASL_Translation_Tool/Datasets/alphabet_vid.zip\""
      ],
      "metadata": {
        "id": "mMbtxNLMkxfA"
      },
      "execution_count": null,
      "outputs": []
    },
    {
      "cell_type": "code",
      "source": [
        "# Specify the height and width to which each video frame will be resized in our dataset.\n",
        "IMAGE_HEIGHT , IMAGE_WIDTH = 700, 700\n",
        " \n",
        "# Specify the number of frames of a video that will be fed to the model as one sequence.\n",
        "SEQUENCE_LENGTH = 25\n",
        "\n",
        "# Specify the number of landmark frames and landmarks\n",
        "NUM_LANDMARKS_LIST_ENTRIES = 42\n",
        "NUM_LANDMARKS_LISTS = 5\n",
        " \n",
        "# Specify the directory containing the WLASL dataset. \n",
        "DATASET_DIR = \"ASL_Dataset_Clips_v0\"\n",
        " \n",
        "# Specify the list containing the names of the classes used for training. Feel free to choose any set of classes.\n",
        "CLASSES_LIST = os.listdir(DATASET_DIR)\n",
        "CLASSES_LIST.remove(\".DS_Store\")"
      ],
      "metadata": {
        "id": "L6PsPNK_qVkh"
      },
      "execution_count": null,
      "outputs": []
    },
    {
      "cell_type": "code",
      "source": [
        "def frames_extraction(video_path):\n",
        "    '''\n",
        "    This function will extract the required frames from a video after resizing and normalizing them.\n",
        "    Args:\n",
        "        video_path: The path of the video in the disk, whose frames are to be extracted.\n",
        "    Returns:\n",
        "        frames_list: A list containing the resized and normalized frames of the video.\n",
        "    '''\n",
        " \n",
        "    # Declare a list to store video frames.\n",
        "    frames_list = []\n",
        "    \n",
        "    # Read the Video File using the VideoCapture object.\n",
        "    video_reader = cv2.VideoCapture(video_path)\n",
        " \n",
        "    # Get the total number of frames in the video.\n",
        "    video_frames_count = int(video_reader.get(cv2.CAP_PROP_FRAME_COUNT))\n",
        " \n",
        "    # Calculate the the interval after which frames will be added to the list.\n",
        "    skip_frames_window = max(int(video_frames_count/SEQUENCE_LENGTH), 1)\n",
        "    # skip_frames_window = 1\n",
        " \n",
        "    # Iterate through the Video Frames.\n",
        "    for frame_counter in range(SEQUENCE_LENGTH):\n",
        " \n",
        "        # Set the current frame position of the video.\n",
        "        video_reader.set(cv2.CAP_PROP_POS_FRAMES, frame_counter * skip_frames_window)\n",
        " \n",
        "        # Reading the frame from the video. \n",
        "        success, frame = video_reader.read() \n",
        " \n",
        "        # Check if Video frame is not successfully read then break the loop\n",
        "        if not success:\n",
        "            break\n",
        " \n",
        "        # Resize the Frame to fixed height and width.\n",
        "        resized_frame = cv2.resize(frame, (IMAGE_HEIGHT, IMAGE_WIDTH))\n",
        "        \n",
        "        # Append the resized frame into the frames list\n",
        "        frames_list.append(resized_frame)\n",
        "    \n",
        "    # Release the VideoCapture object. \n",
        "    video_reader.release()\n",
        " \n",
        "    # Return the frames list.\n",
        "    return frames_list"
      ],
      "metadata": {
        "id": "9R-qaTWerZbe"
      },
      "execution_count": null,
      "outputs": []
    },
    {
      "cell_type": "code",
      "source": [
        "# Create Hands object and Hands drawing object.\n",
        "mp_hands = mp.solutions.hands\n",
        "mp_draw = mp.solutions.drawing_utils\n",
        "mp_drawing_styles = mp.solutions.drawing_styles\n",
        "\n",
        "hands = mp_hands.Hands()"
      ],
      "metadata": {
        "id": "b7ttTiIhu-yU"
      },
      "execution_count": null,
      "outputs": []
    },
    {
      "cell_type": "code",
      "source": [
        "def calculate_landmark_list(frame, hand_landmarks):\n",
        "    frame_width, frame_height = frame.shape[1], frame.shape[0]\n",
        "\n",
        "    landmark_point = []\n",
        "\n",
        "    # Get keypoint.\n",
        "    for _, landmark in enumerate(hand_landmarks.landmark):\n",
        "        landmark_x = min(int(landmark.x * frame_width), frame_width - 1)\n",
        "        landmark_y = min(int(landmark.y * frame_height), frame_height - 1)\n",
        "\n",
        "        landmark_point.append([landmark_x, landmark_y])\n",
        "\n",
        "    return landmark_point"
      ],
      "metadata": {
        "id": "gzPqNC3fneqH"
      },
      "execution_count": null,
      "outputs": []
    },
    {
      "cell_type": "code",
      "source": [
        "def pre_process_landmark(landmark_list):\n",
        "    temp_landmark_list = copy.deepcopy(landmark_list)\n",
        "\n",
        "    # Convert to relative coordinates.\n",
        "    base_x, base_y = 0, 0\n",
        "    for index, landmark_point in enumerate(temp_landmark_list):\n",
        "        if index == 0:\n",
        "            base_x, base_y = landmark_point[0], landmark_point[1]\n",
        "\n",
        "        temp_landmark_list[index][0] = temp_landmark_list[index][0] - base_x\n",
        "        temp_landmark_list[index][1] = temp_landmark_list[index][1] - base_y\n",
        "\n",
        "    # Convert to a one-dimensional list.\n",
        "    temp_landmark_list = list(itertools.chain.from_iterable(temp_landmark_list))\n",
        "\n",
        "    # Normalization\n",
        "    max_value = max(list(map(abs, temp_landmark_list)))\n",
        "\n",
        "    def normalize_(n):\n",
        "        return n / max_value\n",
        "\n",
        "    temp_landmark_list = list(map(normalize_, temp_landmark_list))\n",
        "\n",
        "    return temp_landmark_list"
      ],
      "metadata": {
        "id": "qf-qOWwbo8RK"
      },
      "execution_count": null,
      "outputs": []
    },
    {
      "cell_type": "code",
      "source": [
        "def pre_process_point_history(frame, point_history):\n",
        "    frame_width, frame_height = frame.shape[1], frame.shape[0]\n",
        "\n",
        "    temp_point_history = copy.deepcopy(point_history)\n",
        "\n",
        "    # Convert to relative coordinates.\n",
        "    base_x, base_y = 0, 0\n",
        "    for index, point in enumerate(temp_point_history):\n",
        "        if index == 0:\n",
        "            base_x, base_y = point[0], point[1]\n",
        "\n",
        "        temp_point_history[index][0] = (temp_point_history[index][0] - base_x) / frame_width\n",
        "        temp_point_history[index][1] = (temp_point_history[index][1] - base_y) / frame_height\n",
        "\n",
        "    # Convert to a one-dimensional list.\n",
        "    temp_point_history = list(itertools.chain.from_iterable(temp_point_history))\n",
        "\n",
        "    return temp_point_history"
      ],
      "metadata": {
        "id": "jPkePUOSpiTC"
      },
      "execution_count": null,
      "outputs": []
    },
    {
      "cell_type": "code",
      "source": [
        "def detect_hand_landmarks(frame):\n",
        "    # Flip frame.\n",
        "    frame = cv2.flip(cv2.cvtColor(frame, cv2.COLOR_BGR2RGB), 1)\n",
        "\n",
        "    # Get hand landmarks.\n",
        "    frame.flags.writeable = False\n",
        "    results = hands.process(frame)\n",
        "    frame.flags.writeable = True\n",
        "\n",
        "    frame_landmark_list = []\n",
        "    if results.multi_hand_landmarks:\n",
        "        for hand_landmarks, handedness in zip(results.multi_hand_landmarks, results.multi_handedness):\n",
        "            # Get landmark calculations.\n",
        "            landmark_list = calculate_landmark_list(frame, hand_landmarks)\n",
        "\n",
        "            # Convert landmark calculations to relative/normalized coordinates.\n",
        "            pre_processed_landmark_list = pre_process_landmark(landmark_list)\n",
        "\n",
        "            frame_landmark_list = pre_processed_landmark_list\n",
        "    \n",
        "    return frame_landmark_list"
      ],
      "metadata": {
        "id": "j7BmjrRzkHDX"
      },
      "execution_count": null,
      "outputs": []
    },
    {
      "cell_type": "code",
      "source": [
        "def create_dataset():\n",
        "    '''\n",
        "    This function will extract the data of the selected classes and create the required dataset.\n",
        "    Returns:\n",
        "        features:          A list containing the extracted frames of the videos.\n",
        "        labels:            A list containing the indexes of the classes associated with the videos.\n",
        "        video_files_paths: A list containing the paths of the videos in the disk.\n",
        "    '''\n",
        " \n",
        "    # Declared Empty Lists to store the features, labels and video file path values.\n",
        "    features = []\n",
        "    labels = []\n",
        "    video_files_paths = []\n",
        "    \n",
        "    # Iterating through all the classes mentioned in the classes list\n",
        "    for class_index, class_name in enumerate(CLASSES_LIST):\n",
        "        \n",
        "        # Display the name of the class whose data is being extracted.\n",
        "        print(f'Extracting Data of Class: {class_name}')\n",
        "        \n",
        "        # Get the list of video files present in the specific class name directory.\n",
        "        files_list = os.listdir(os.path.join(DATASET_DIR, class_name))\n",
        "        \n",
        "        # Iterate through all the files present in the files list.\n",
        "        landmarks_list_counter = 0\n",
        "        landmarks_list_accepted_counter = 0\n",
        "        landmarks_list_history = []\n",
        "        # landmarks_list_features_history = []\n",
        "        for file_name in files_list:\n",
        "            \n",
        "            # Get the complete video path.\n",
        "            video_file_path = os.path.join(DATASET_DIR, class_name, file_name)\n",
        " \n",
        "            # Extract the frames of the video file.\n",
        "            frames = frames_extraction(video_file_path)\n",
        " \n",
        "            # Check if the extracted frames are equal to the SEQUENCE_LENGTH specified above.\n",
        "            # So ignore the videos having frames less than the SEQUENCE_LENGTH.\n",
        "            if len(frames) >= NUM_LANDMARKS_LISTS:\n",
        "                landmarks_list = []\n",
        "                for frame in frames:\n",
        "                    # Get hand landmarks\n",
        "                    landmarks = detect_hand_landmarks(frame)\n",
        "                    if landmarks:\n",
        "                        landmarks_list.append(landmarks)\n",
        "\n",
        "                # Append the data to their repective lists.\n",
        "                landmarks_list_history.append(len(landmarks_list))\n",
        "                landmarks_list_counter += 1\n",
        "                if len(landmarks_list) >= NUM_LANDMARKS_LISTS:\n",
        "                    landmarks_list_accepted_counter += 1\n",
        "                    step_val = len(landmarks_list) // NUM_LANDMARKS_LISTS\n",
        "                    # landmarks_list_features_history.append(step_val)\n",
        "                    if step_val < 2:\n",
        "                        features.append(landmarks_list[:NUM_LANDMARKS_LISTS])\n",
        "                    else:\n",
        "                        new_list = landmarks_list[::step_val]\n",
        "                        features.append(new_list[:NUM_LANDMARKS_LISTS])\n",
        "                    labels.append(class_index)\n",
        "                    video_files_paths.append(video_file_path)\n",
        "\n",
        "        print(\"Length: \" + str(landmarks_list_counter) + \" | Accepted: \" + str(landmarks_list_accepted_counter))\n",
        "        print(landmarks_list_history)\n",
        " \n",
        "    # Converting the list to numpy arrays\n",
        "    features = np.asarray(features)\n",
        "    labels = np.array(labels)  \n",
        "    \n",
        "    # Return the frames, class index, and video file path.\n",
        "    return features, labels, video_files_paths"
      ],
      "metadata": {
        "id": "5KMsPqesrjJf"
      },
      "execution_count": null,
      "outputs": []
    },
    {
      "cell_type": "code",
      "source": [
        "# Create the dataset.\n",
        "features, labels, video_files_paths = create_dataset()"
      ],
      "metadata": {
        "id": "olhrI6Mwrqko"
      },
      "execution_count": null,
      "outputs": []
    },
    {
      "cell_type": "code",
      "source": [
        "# View the shpae of features\n",
        "features.shape"
      ],
      "metadata": {
        "id": "J30gDByxI8BQ"
      },
      "execution_count": null,
      "outputs": []
    },
    {
      "cell_type": "code",
      "source": [
        "# Using Keras's to_categorical method to convert labels into one-hot-encoded vectors\n",
        "one_hot_encoded_labels = to_categorical(labels)"
      ],
      "metadata": {
        "id": "H4wZj8HervZl"
      },
      "execution_count": null,
      "outputs": []
    },
    {
      "cell_type": "code",
      "source": [
        "# Split the Data into Train ( 80% ) and Test Set ( 20% ).\n",
        "features_train, features_test, labels_train, labels_test = train_test_split(features, one_hot_encoded_labels, test_size = 0.2, shuffle = True, random_state = seed_constant, stratify=labels)"
      ],
      "metadata": {
        "id": "0W0O5z3-rv-5"
      },
      "execution_count": null,
      "outputs": []
    },
    {
      "cell_type": "code",
      "source": [
        "# Check number of items in each class for training\n",
        "print(\"labels_train\")\n",
        "total_train_arr = np.empty(26)\n",
        "for arr in labels_train:\n",
        "    total_train_arr[np.where(arr == 1)[0]] += 1\n",
        "print(total_train_arr)"
      ],
      "metadata": {
        "id": "idnAIQtqZMW9"
      },
      "execution_count": null,
      "outputs": []
    },
    {
      "cell_type": "code",
      "source": [
        "# Check number of items in each class for testing\n",
        "print(\"labels_test\")\n",
        "total_test_arr = np.empty(26)\n",
        "for arr in labels_test:\n",
        "    total_test_arr[np.where(arr == 1)[0]] += 1\n",
        "print(total_test_arr)"
      ],
      "metadata": {
        "id": "-S7rligOZV4u"
      },
      "execution_count": null,
      "outputs": []
    },
    {
      "cell_type": "code",
      "source": [
        "def create_LSTM_model():\n",
        "    model = Sequential()\n",
        "\n",
        "    model.add(LSTM(100, input_shape=(NUM_LANDMARKS_LISTS, NUM_LANDMARKS_LIST_ENTRIES)))\n",
        "    model.add(Dropout(0.5))\n",
        "    model.add(Dense(100, activation='relu'))\n",
        "    model.add(Dense(len(CLASSES_LIST), activation='softmax'))\n",
        "\n",
        "    model.summary()\n",
        "\n",
        "    return model"
      ],
      "metadata": {
        "id": "s8L5rIs6FHqT"
      },
      "execution_count": null,
      "outputs": []
    },
    {
      "cell_type": "code",
      "source": [
        "# Construct the required model.\n",
        "LSTM_model = create_LSTM_model()\n",
        " \n",
        "# Display the success message.\n",
        "print(\"Model Created Successfully!\")"
      ],
      "metadata": {
        "id": "r7JO2TQWskTH"
      },
      "execution_count": null,
      "outputs": []
    },
    {
      "cell_type": "code",
      "source": [
        "# Plot the structure of the contructed model.\n",
        "plot_model(LSTM_model, to_file = 'LSTM_model_structure_plot.png', show_shapes = True, show_layer_names = True)"
      ],
      "metadata": {
        "id": "HLN22vmCsk-r"
      },
      "execution_count": null,
      "outputs": []
    },
    {
      "cell_type": "code",
      "source": [
        "# Create an Instance of Early Stopping Callback.\n",
        "early_stopping_callback = EarlyStopping(monitor = 'val_loss', patience = 100, mode = 'min', restore_best_weights = True)\n",
        " \n",
        "# Compile the model and specify loss function, optimizer and metrics to the model.\n",
        "LSTM_model.compile(loss = 'categorical_crossentropy', optimizer = 'Adam', metrics = [\"accuracy\"])\n",
        " \n",
        "# Start training the model.\n",
        "LSTM_model_training_history = LSTM_model.fit(x = features_train, y = labels_train, epochs = 300, batch_size = 4 , shuffle = True, validation_split = 0.2, callbacks = [early_stopping_callback])\n",
        "print(\"Model has been trained\")\n",
        "\n",
        "# Evaluate the trained model.\n",
        "model_evaluation_history = LSTM_model.evaluate(features_test, labels_test)\n",
        "print(\"Model has been evaluated\")\n",
        "\n",
        "# Get the loss and accuracy from model_evaluation_history.\n",
        "model_evaluation_loss, model_evaluation_accuracy = model_evaluation_history\n",
        " \n",
        "# Define the string date format.\n",
        "# Get the current Date and Time in a DateTime Object.\n",
        "# Convert the DateTime object to string according to the style mentioned in date_time_format string.\n",
        "date_time_format = '%Y_%m_%d__%H_%M_%S'\n",
        "current_date_time_dt = dt.datetime.now()\n",
        "current_date_time_string = dt.datetime.strftime(current_date_time_dt, date_time_format)\n",
        "    \n",
        "# Define a useful name for our model to make it easy for us while navigating through multiple saved models.\n",
        "model_file_name = f'LSTM_model___Date_Time_{current_date_time_string}___Loss_{model_evaluation_loss}___Accuracy_{model_evaluation_accuracy}.h5'\n",
        " \n",
        "# Save the Model.\n",
        "LSTM_model.save(model_file_name)\n",
        "print(\"Model has been saved\")"
      ],
      "metadata": {
        "id": "LVH9v56hMBER"
      },
      "execution_count": null,
      "outputs": []
    },
    {
      "cell_type": "code",
      "source": [
        "def plot_metric(model_training_history, metric_name_1, metric_name_2, plot_name):\n",
        "    '''\n",
        "    This function will plot the metrics passed to it in a graph.\n",
        "    Args:\n",
        "        model_training_history: A history object containing a record of training and validation \n",
        "                                loss values and metrics values at successive epochs\n",
        "        metric_name_1:          The name of the first metric that needs to be plotted in the graph.\n",
        "        metric_name_2:          The name of the second metric that needs to be plotted in the graph.\n",
        "        plot_name:              The title of the graph.\n",
        "    '''\n",
        "    \n",
        "    # Get metric values using metric names as identifiers.\n",
        "    metric_value_1 = model_training_history.history[metric_name_1]\n",
        "    metric_value_2 = model_training_history.history[metric_name_2]\n",
        "    \n",
        "    # Construct a range object which will be used as x-axis (horizontal plane) of the graph.\n",
        "    epochs = range(len(metric_value_1))\n",
        " \n",
        "    # Plot the Graph.\n",
        "    plt.plot(epochs, metric_value_1, 'blue', label = metric_name_1)\n",
        "    plt.plot(epochs, metric_value_2, 'red', label = metric_name_2)\n",
        " \n",
        "    # Add title to the plot.\n",
        "    plt.title(str(plot_name))\n",
        " \n",
        "    # Add legend to the plot.\n",
        "    plt.legend()"
      ],
      "metadata": {
        "id": "acCxRh6NECQB"
      },
      "execution_count": null,
      "outputs": []
    },
    {
      "cell_type": "code",
      "source": [
        "# Visualize the training and validation loss metrices.\n",
        "plot_metric(LSTM_model_training_history, 'loss', 'val_loss', 'Total Loss vs Total Validation Loss')"
      ],
      "metadata": {
        "id": "al3UAoH5tCGv"
      },
      "execution_count": null,
      "outputs": []
    },
    {
      "cell_type": "code",
      "source": [
        "# Get confusion matrix\n",
        "labels_pred = LSTM_model.predict(features_test)"
      ],
      "metadata": {
        "id": "IrDEt2iyG8G8"
      },
      "execution_count": null,
      "outputs": []
    },
    {
      "cell_type": "code",
      "source": [
        "# Print F1 scores and confusion matrix\n",
        "new_labels_pred = np.argmax(labels_pred, axis=1)\n",
        "new_labels_test = np.argmax(labels_test, axis=1)\n",
        "print(classification_report(new_labels_test, new_labels_pred, target_names=CLASSES_LIST))\n",
        "print(confusion_matrix(new_labels_test, new_labels_pred))"
      ],
      "metadata": {
        "id": "Q-6hTalBWJNN"
      },
      "execution_count": null,
      "outputs": []
    },
    {
      "cell_type": "markdown",
      "source": [
        "Ensemble"
      ],
      "metadata": {
        "id": "-HdHnmnZDuLq"
      }
    },
    {
      "cell_type": "code",
      "source": [
        "# Import the required libraries\n",
        "from keras.models import load_model\n",
        "from sklearn.metrics import accuracy_score"
      ],
      "metadata": {
        "id": "tGkxNxagD0u-"
      },
      "execution_count": null,
      "outputs": []
    },
    {
      "cell_type": "code",
      "source": [
        "# Load models\n",
        "model1 = load_model(\"/content/LSTM_model___Date_Time_2023_01_25__09_04_37___Loss_0.5613618493080139___Accuracy_0.875.h5\")\n",
        "model2 = load_model(\"/content/LSTM_model___Date_Time_2023_01_25__09_51_04___Loss_0.19653922319412231___Accuracy_0.9757281541824341.h5\")\n",
        "model3 = load_model(\"/content/LSTM_model___Date_Time_2023_01_25__10_25_19___Loss_0.0022365914192050695___Accuracy_1.0.h5\")"
      ],
      "metadata": {
        "id": "auSSB8rdEBcA"
      },
      "execution_count": null,
      "outputs": []
    },
    {
      "cell_type": "code",
      "source": [
        "# Set the datasets for testing\n",
        "TEST_SET = features_test\n",
        "TEST_LABELS = labels_test"
      ],
      "metadata": {
        "id": "oIVZbmBH3pAH"
      },
      "execution_count": null,
      "outputs": []
    },
    {
      "cell_type": "code",
      "source": [
        "# Get individual model predictions\n",
        "pred1 = np.argmax(model1.predict(TEST_SET), axis=-1)\n",
        "pred2 = np.argmax(model2.predict(TEST_SET), axis=-1)\n",
        "pred3 = np.argmax(model3.predict(TEST_SET), axis=-1)"
      ],
      "metadata": {
        "id": "y0lZK6UwExGv"
      },
      "execution_count": null,
      "outputs": []
    },
    {
      "cell_type": "code",
      "source": [
        "# Print confidence vectors for individual models\n",
        "print(model1.predict(TEST_SET))\n",
        "print(model2.predict(TEST_SET))\n",
        "print(model3.predict(TEST_SET))"
      ],
      "metadata": {
        "id": "cPcLY4hRNgmC"
      },
      "execution_count": null,
      "outputs": []
    },
    {
      "cell_type": "code",
      "source": [
        "# Get accuracy scores for individual models\n",
        "acc1 = accuracy_score(tf_labels_test, pred1)\n",
        "acc2 = accuracy_score(tf_labels_test, pred2)\n",
        "acc3 = accuracy_score(tf_labels_test, pred3)"
      ],
      "metadata": {
        "id": "6mlthfGMa7WC"
      },
      "execution_count": null,
      "outputs": []
    },
    {
      "cell_type": "code",
      "source": [
        "# Create an array of models with weights\n",
        "models = [model1, model2, model3]\n",
        "weights = [acc1, acc2, acc3]"
      ],
      "metadata": {
        "id": "UkLiDEaka2ru"
      },
      "execution_count": null,
      "outputs": []
    },
    {
      "cell_type": "code",
      "source": [
        "# Get ensemble predictions\n",
        "preds = []\n",
        "for model, weight in zip(models, weights):\n",
        "  preds.append(model.predict(TEST_SET)*weight)\n",
        "\n",
        "preds = np.array(preds)\n",
        "summed = np.sum(preds, axis=0)\n",
        "ensemble_pred = np.argmax(summed, axis=1)"
      ],
      "metadata": {
        "id": "bU4dDCe7EKp9"
      },
      "execution_count": null,
      "outputs": []
    },
    {
      "cell_type": "code",
      "source": [
        "# Get accuracy score for ensemble\n",
        "tf_labels_test = np.argmax(TEST_LABELS, axis=1)\n",
        "ensemble_acc = accuracy_score(tf_labels_test, ensemble_pred)"
      ],
      "metadata": {
        "id": "OTL28H4OE2Z8"
      },
      "execution_count": null,
      "outputs": []
    },
    {
      "cell_type": "code",
      "source": [
        "# Print accuracy scores\n",
        "print(\"Accuracy Score for Ensemble = \", ensemble_acc)\n",
        "print(\"Accuracy Score for model1 = \", acc1)\n",
        "print(\"Accuracy Score for model2 = \", acc2)\n",
        "print(\"Accuracy Score for model3 = \", acc3)"
      ],
      "metadata": {
        "id": "4gTyMRbnFQEv"
      },
      "execution_count": null,
      "outputs": []
    },
    {
      "cell_type": "markdown",
      "source": [
        "Citations:\n",
        "\n",
        "Anwar, Taha, et al. “Human Activity Recognition Using Tensorflow (CNN + LSTM).” Bleed AI, 24 Aug. 2022, https://bleedai.com/human-activity-recognition-using-tensorflow-cnn-lstm/\n",
        "\n",
        "Goncharov, Ivan. “Custom Hand Gesture Recognition with Hand Landmarks Using Google's Mediapipe + Opencv in Python.” YouTube, 13 Mar. 2022, https://www.youtube.com/watch?v=a99p_fAr6e4&amp;ab_channel=IvanGoncharov ."
      ],
      "metadata": {
        "id": "Rl9M4Dqq9nHG"
      }
    }
  ]
}